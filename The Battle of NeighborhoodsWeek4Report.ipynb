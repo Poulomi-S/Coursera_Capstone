{
 "cells": [
  {
   "cell_type": "markdown",
   "metadata": {},
   "source": [
    "# **Coursera Capstone Project: Week 4**"
   ]
  },
  {
   "cell_type": "markdown",
   "metadata": {},
   "source": [
    "#### **Author: Poulomi Saha**"
   ]
  },
  {
   "cell_type": "markdown",
   "metadata": {},
   "source": [
    "## 1. Introduction"
   ]
  },
  {
   "cell_type": "markdown",
   "metadata": {},
   "source": [
    "New York City (NYC), is the most populous city in the United States. With an estimated 2019 population of 8,336,817, New York City is also the most densely populated major city in the United States. New York City is composed of five boroughs, each of which is a county of the State of New York.The city and its metropolitan area constitute the premier gateway for legal immigration to the United States,which has a larger immigrant population than any other country, with 47 million immigrants as of 2015.\n",
    "A published article claims that there are about 710,000 Indians residing in NYC, which is about 9% of the total NYC population.\n",
    "Among many other things, Indians are known for their love towards Indian flavorsome, spicy food.\n",
    "In this final project, the best locations for eating & ordering out Indian as well as opening an Indian restaurant is explored throughout NYC.\n",
    "Hence this will not only benefit the Indians and the diverse cultured people who are fond of Indian food, but also can be a guide to the newcomers into the NYC."
   ]
  },
  {
   "cell_type": "markdown",
   "metadata": {},
   "source": [
    "## Discussion Module"
   ]
  },
  {
   "cell_type": "markdown",
   "metadata": {},
   "source": [
    "- How many Indian restaurants are there in NYC and how are they distributed along different neighborhoods/boroughs?\n",
    "- Which are the best locations to find Indian food joints in NYC?\n",
    "- In which areas do the newcomer Indians decide to reside?\n",
    "- In which neighborhood should a potential restaurant owner invest to have best chance of success?"
   ]
  },
  {
   "cell_type": "markdown",
   "metadata": {},
   "source": [
    "## 2. Data/Sample"
   ]
  },
  {
   "cell_type": "markdown",
   "metadata": {},
   "source": [
    "In order to answer above questions, the following data is needed:\n",
    "- Geospatial information of NYC, including names of neighborhoods, boroughs as well as their geodata( latitude, longitude).\n",
    "- Details such as name,menu,ratings of Indian restaurants in NYC.\n",
    "\n",
    "Above informatio can either be gathered from internet and/or requested from Foresquare API using python and geopy data."
   ]
  },
  {
   "cell_type": "markdown",
   "metadata": {},
   "source": [
    "## 3. Methodology"
   ]
  },
  {
   "cell_type": "markdown",
   "metadata": {},
   "source": [
    "1. NYC geospatial data will be collected from https://cocl.us/new_york_dataset.\n",
    "2. Data of Indian restaurants will be requested by using Foresquare API and Geopy map.\n",
    "3. Collected data will be processed and exploratory analysis will be performed on the data.\n",
    "4. Cleaned data will be visualised using different python libraries."
   ]
  },
  {
   "cell_type": "markdown",
   "metadata": {},
   "source": [
    "## 4. References"
   ]
  },
  {
   "cell_type": "markdown",
   "metadata": {},
   "source": [
    "1.  https://en.wikipedia.org/wiki/New_York_City\n",
    "2. https://www1.nyc.gov/assets/immigrants/downloads/pdf/moia_annual_report_2018_final.pdf\n",
    "3. https://www.novacredit.com/resources/desis-in-new-york-a-guide-for-indian-newcomers-in-new-york-city/#:~:text=New%20York%20City%20houses%20one,Indian%20residents%20as%20of%202017."
   ]
  },
  {
   "cell_type": "markdown",
   "metadata": {},
   "source": [
    "## 5. Libraries used to drive through the project"
   ]
  },
  {
   "cell_type": "markdown",
   "metadata": {},
   "source": [
    "1.\tPandas: To create and manipulate data frames.\n",
    "2.\tFolium: Python visualization library would be used to visualize the neighborhood cluster distribution of using an interactive leaflet map.\n",
    "3.\tScikit Learn: To import k-means clustering.\n",
    "4.\tJSON: Library to handle JSON files.\n",
    "5.\tXML: To separate data from presentation and XML stores data in plain text format.\n",
    "6.\tGeopy/Geocoder: To retrieve Location Data.\n",
    "7.\tBeautiful Soup and Requests: To scrap and library to handle HTTP requests.\n",
    "8.\tMatplotlib: To Python Plotting Module."
   ]
  },
  {
   "cell_type": "markdown",
   "metadata": {},
   "source": [
    "## 6. Conclusion"
   ]
  },
  {
   "cell_type": "markdown",
   "metadata": {},
   "source": [
    "In this study, I analyzed the population count that is Indian by origin and their preferred location of residence,so as to gauge the location of indian restaurants in the neighborhood. Also the new comers into the country were taken in account so that they could be given a vivid idea of where to get their take outs or dining options having Indian meal as their option. The Indian residential areas also helped in finalizing the neighborhood where a new Indian food joint venture would successfully work."
   ]
  },
  {
   "cell_type": "markdown",
   "metadata": {},
   "source": [
    "<br>"
   ]
  },
  {
   "cell_type": "code",
   "execution_count": null,
   "metadata": {},
   "outputs": [],
   "source": []
  }
 ],
 "metadata": {
  "kernelspec": {
   "display_name": "Python",
   "language": "python",
   "name": "conda-env-python-py"
  },
  "language_info": {
   "codemirror_mode": {
    "name": "ipython",
    "version": 3
   },
   "file_extension": ".py",
   "mimetype": "text/x-python",
   "name": "python",
   "nbconvert_exporter": "python",
   "pygments_lexer": "ipython3",
   "version": "3.6.12"
  }
 },
 "nbformat": 4,
 "nbformat_minor": 4
}
