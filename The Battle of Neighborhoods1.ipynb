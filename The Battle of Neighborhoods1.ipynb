{
 "cells": [
  {
   "cell_type": "markdown",
   "metadata": {},
   "source": [
    "# Coursera Capstone Project: Week 4"
   ]
  },
  {
   "cell_type": "markdown",
   "metadata": {},
   "source": [
    "## 1. Introduction"
   ]
  },
  {
   "cell_type": "markdown",
   "metadata": {},
   "source": [
    "New York City (NYC), is the most populous city in the United States. With an estimated 2019 population of 8,336,817, New York City is also the most densely populated major city in the United States. New York City is composed of five boroughs, each of which is a county of the State of New York.The city and its metropolitan area constitute the premier gateway for legal immigration to the United States,which has a larger immigrant population than any other country, with 47 million immigrants as of 2015.\n",
    "A published article claims that there are about 710,000 Indians residing in NYC [3], which is about 9% of the total NYC population.\n",
    "Among many other things, Indians are known for their love towards Indian flavorsome, spicy food.\n",
    "In this final project, the best locations for eating & ordering out Indian as well as opening an Indian restaurant is explored throughout NYC."
   ]
  },
  {
   "cell_type": "markdown",
   "metadata": {},
   "source": [
    "## Discussion Module"
   ]
  },
  {
   "cell_type": "markdown",
   "metadata": {},
   "source": [
    "- How many Indian restaurants are there in NYC and how are they distributed along different neighborhoods/boroughs?\n",
    "- Which are the best locations to find Indian food joints in NYC?\n",
    "- In which neighborhood should a potential restaurant owner invest to have best chance of success?\n"
   ]
  },
  {
   "cell_type": "markdown",
   "metadata": {},
   "source": [
    "## 2. Data/Sample"
   ]
  },
  {
   "cell_type": "markdown",
   "metadata": {},
   "source": [
    "In order to answer above questions, the following data is needed:\n",
    "- Geospatial information of NYC, including names of neighborhoods, boroughs as well as their latitude, longitude.\n",
    "- Details such as name,menu,ratings of Indian restaurants in NYC.\n",
    "\n",
    "Above data can either be gathered from internet and/or requested from Foresquare API using python."
   ]
  },
  {
   "cell_type": "code",
   "execution_count": null,
   "metadata": {},
   "outputs": [],
   "source": []
  }
 ],
 "metadata": {
  "kernelspec": {
   "display_name": "Python",
   "language": "python",
   "name": "conda-env-python-py"
  },
  "language_info": {
   "codemirror_mode": {
    "name": "ipython",
    "version": 3
   },
   "file_extension": ".py",
   "mimetype": "text/x-python",
   "name": "python",
   "nbconvert_exporter": "python",
   "pygments_lexer": "ipython3",
   "version": "3.6.12"
  }
 },
 "nbformat": 4,
 "nbformat_minor": 4
}
